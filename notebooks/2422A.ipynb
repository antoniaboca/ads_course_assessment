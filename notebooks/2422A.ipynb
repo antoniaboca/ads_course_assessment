{
  "nbformat": 4,
  "nbformat_minor": 5,
  "metadata": {
    "colab": {
      "name": "ads_course_assessment.ipynb",
      "provenance": [],
      "collapsed_sections": [],
      "toc_visible": true
    },
    "kernelspec": {
      "display_name": "Python 3",
      "language": "python",
      "name": "python3"
    },
    "language_info": {
      "codemirror_mode": {
        "name": "ipython",
        "version": 3
      },
      "file_extension": ".py",
      "mimetype": "text/x-python",
      "name": "python",
      "nbconvert_exporter": "python",
      "pygments_lexer": "ipython3",
      "version": "3.8.8"
    },
    "widgets": {
      "application/vnd.jupyter.widget-state+json": {
        "5eb84d9e7a28481bb5f99008be0cdda2": {
          "model_module": "@jupyter-widgets/controls",
          "model_name": "VBoxModel",
          "model_module_version": "1.5.0",
          "state": {
            "_view_name": "VBoxView",
            "_dom_classes": [
              "widget-interact"
            ],
            "_model_name": "VBoxModel",
            "_view_module": "@jupyter-widgets/controls",
            "_model_module_version": "1.5.0",
            "_view_count": null,
            "_view_module_version": "1.5.0",
            "box_style": "",
            "layout": "IPY_MODEL_b75bb55212474e56a5e6d487e0690a28",
            "_model_module": "@jupyter-widgets/controls",
            "children": [
              "IPY_MODEL_4fb41f5328cd4587a065c1b15941a9dc",
              "IPY_MODEL_fa1e9634623c4f69bdd4ee59843ea6dc",
              "IPY_MODEL_cf4c722821bf47d0b90d6b7fc138624d",
              "IPY_MODEL_f2de4a1162b243c3b1eb9b0f0c27ee87"
            ]
          }
        },
        "b75bb55212474e56a5e6d487e0690a28": {
          "model_module": "@jupyter-widgets/base",
          "model_name": "LayoutModel",
          "model_module_version": "1.2.0",
          "state": {
            "_view_name": "LayoutView",
            "grid_template_rows": null,
            "right": null,
            "justify_content": null,
            "_view_module": "@jupyter-widgets/base",
            "overflow": null,
            "_model_module_version": "1.2.0",
            "_view_count": null,
            "flex_flow": null,
            "width": null,
            "min_width": null,
            "border": null,
            "align_items": null,
            "bottom": null,
            "_model_module": "@jupyter-widgets/base",
            "top": null,
            "grid_column": null,
            "overflow_y": null,
            "overflow_x": null,
            "grid_auto_flow": null,
            "grid_area": null,
            "grid_template_columns": null,
            "flex": null,
            "_model_name": "LayoutModel",
            "justify_items": null,
            "grid_row": null,
            "max_height": null,
            "align_content": null,
            "visibility": null,
            "align_self": null,
            "height": null,
            "min_height": null,
            "padding": null,
            "grid_auto_rows": null,
            "grid_gap": null,
            "max_width": null,
            "order": null,
            "_view_module_version": "1.2.0",
            "grid_template_areas": null,
            "object_position": null,
            "object_fit": null,
            "grid_auto_columns": null,
            "margin": null,
            "display": null,
            "left": null
          }
        },
        "4fb41f5328cd4587a065c1b15941a9dc": {
          "model_module": "@jupyter-widgets/controls",
          "model_name": "TextModel",
          "model_module_version": "1.5.0",
          "state": {
            "_view_name": "TextView",
            "style": "IPY_MODEL_085c5bfecf3f4edd9b4ee8924007e794",
            "_dom_classes": [],
            "description": "Username:",
            "_model_name": "TextModel",
            "placeholder": "​",
            "_view_module": "@jupyter-widgets/controls",
            "_model_module_version": "1.5.0",
            "value": "",
            "_view_count": null,
            "disabled": false,
            "_view_module_version": "1.5.0",
            "continuous_update": true,
            "description_tooltip": null,
            "_model_module": "@jupyter-widgets/controls",
            "layout": "IPY_MODEL_6ef18aaddd6148659fbe623b33ae5c27"
          }
        },
        "fa1e9634623c4f69bdd4ee59843ea6dc": {
          "model_module": "@jupyter-widgets/controls",
          "model_name": "PasswordModel",
          "model_module_version": "1.5.0",
          "state": {
            "_view_name": "PasswordView",
            "style": "IPY_MODEL_657f5c5dee0d4ff98b7e84c65d0df695",
            "_dom_classes": [],
            "description": "Password:",
            "_model_name": "PasswordModel",
            "placeholder": "​",
            "_view_module": "@jupyter-widgets/controls",
            "_model_module_version": "1.5.0",
            "value": "",
            "_view_count": null,
            "disabled": false,
            "_view_module_version": "1.5.0",
            "continuous_update": true,
            "description_tooltip": null,
            "_model_module": "@jupyter-widgets/controls",
            "layout": "IPY_MODEL_c5cc93d3e69d44099a95e12190e6ad14"
          }
        },
        "cf4c722821bf47d0b90d6b7fc138624d": {
          "model_module": "@jupyter-widgets/controls",
          "model_name": "ButtonModel",
          "model_module_version": "1.5.0",
          "state": {
            "_view_name": "ButtonView",
            "style": "IPY_MODEL_cf9ff030661d4126a0b5a4a2718dab3c",
            "_dom_classes": [],
            "description": "Run Interact",
            "_model_name": "ButtonModel",
            "button_style": "",
            "_view_module": "@jupyter-widgets/controls",
            "_model_module_version": "1.5.0",
            "tooltip": "",
            "_view_count": null,
            "disabled": false,
            "_view_module_version": "1.5.0",
            "layout": "IPY_MODEL_56229e935bf4427fa1d1b94634196ff9",
            "_model_module": "@jupyter-widgets/controls",
            "icon": ""
          }
        },
        "f2de4a1162b243c3b1eb9b0f0c27ee87": {
          "model_module": "@jupyter-widgets/output",
          "model_name": "OutputModel",
          "model_module_version": "1.0.0",
          "state": {
            "_view_name": "OutputView",
            "msg_id": "",
            "_dom_classes": [],
            "_model_name": "OutputModel",
            "outputs": [],
            "_view_module": "@jupyter-widgets/output",
            "_model_module_version": "1.0.0",
            "_view_count": null,
            "_view_module_version": "1.0.0",
            "layout": "IPY_MODEL_e994384523814a0ab7edf3064b5d3a6c",
            "_model_module": "@jupyter-widgets/output"
          }
        },
        "085c5bfecf3f4edd9b4ee8924007e794": {
          "model_module": "@jupyter-widgets/controls",
          "model_name": "DescriptionStyleModel",
          "model_module_version": "1.5.0",
          "state": {
            "_view_name": "StyleView",
            "_model_name": "DescriptionStyleModel",
            "description_width": "",
            "_view_module": "@jupyter-widgets/base",
            "_model_module_version": "1.5.0",
            "_view_count": null,
            "_view_module_version": "1.2.0",
            "_model_module": "@jupyter-widgets/controls"
          }
        },
        "6ef18aaddd6148659fbe623b33ae5c27": {
          "model_module": "@jupyter-widgets/base",
          "model_name": "LayoutModel",
          "model_module_version": "1.2.0",
          "state": {
            "_view_name": "LayoutView",
            "grid_template_rows": null,
            "right": null,
            "justify_content": null,
            "_view_module": "@jupyter-widgets/base",
            "overflow": null,
            "_model_module_version": "1.2.0",
            "_view_count": null,
            "flex_flow": null,
            "width": null,
            "min_width": null,
            "border": null,
            "align_items": null,
            "bottom": null,
            "_model_module": "@jupyter-widgets/base",
            "top": null,
            "grid_column": null,
            "overflow_y": null,
            "overflow_x": null,
            "grid_auto_flow": null,
            "grid_area": null,
            "grid_template_columns": null,
            "flex": null,
            "_model_name": "LayoutModel",
            "justify_items": null,
            "grid_row": null,
            "max_height": null,
            "align_content": null,
            "visibility": null,
            "align_self": null,
            "height": null,
            "min_height": null,
            "padding": null,
            "grid_auto_rows": null,
            "grid_gap": null,
            "max_width": null,
            "order": null,
            "_view_module_version": "1.2.0",
            "grid_template_areas": null,
            "object_position": null,
            "object_fit": null,
            "grid_auto_columns": null,
            "margin": null,
            "display": null,
            "left": null
          }
        },
        "657f5c5dee0d4ff98b7e84c65d0df695": {
          "model_module": "@jupyter-widgets/controls",
          "model_name": "DescriptionStyleModel",
          "model_module_version": "1.5.0",
          "state": {
            "_view_name": "StyleView",
            "_model_name": "DescriptionStyleModel",
            "description_width": "",
            "_view_module": "@jupyter-widgets/base",
            "_model_module_version": "1.5.0",
            "_view_count": null,
            "_view_module_version": "1.2.0",
            "_model_module": "@jupyter-widgets/controls"
          }
        },
        "c5cc93d3e69d44099a95e12190e6ad14": {
          "model_module": "@jupyter-widgets/base",
          "model_name": "LayoutModel",
          "model_module_version": "1.2.0",
          "state": {
            "_view_name": "LayoutView",
            "grid_template_rows": null,
            "right": null,
            "justify_content": null,
            "_view_module": "@jupyter-widgets/base",
            "overflow": null,
            "_model_module_version": "1.2.0",
            "_view_count": null,
            "flex_flow": null,
            "width": null,
            "min_width": null,
            "border": null,
            "align_items": null,
            "bottom": null,
            "_model_module": "@jupyter-widgets/base",
            "top": null,
            "grid_column": null,
            "overflow_y": null,
            "overflow_x": null,
            "grid_auto_flow": null,
            "grid_area": null,
            "grid_template_columns": null,
            "flex": null,
            "_model_name": "LayoutModel",
            "justify_items": null,
            "grid_row": null,
            "max_height": null,
            "align_content": null,
            "visibility": null,
            "align_self": null,
            "height": null,
            "min_height": null,
            "padding": null,
            "grid_auto_rows": null,
            "grid_gap": null,
            "max_width": null,
            "order": null,
            "_view_module_version": "1.2.0",
            "grid_template_areas": null,
            "object_position": null,
            "object_fit": null,
            "grid_auto_columns": null,
            "margin": null,
            "display": null,
            "left": null
          }
        },
        "cf9ff030661d4126a0b5a4a2718dab3c": {
          "model_module": "@jupyter-widgets/controls",
          "model_name": "ButtonStyleModel",
          "model_module_version": "1.5.0",
          "state": {
            "_view_name": "StyleView",
            "_model_name": "ButtonStyleModel",
            "_view_module": "@jupyter-widgets/base",
            "_model_module_version": "1.5.0",
            "_view_count": null,
            "button_color": null,
            "font_weight": "",
            "_view_module_version": "1.2.0",
            "_model_module": "@jupyter-widgets/controls"
          }
        },
        "56229e935bf4427fa1d1b94634196ff9": {
          "model_module": "@jupyter-widgets/base",
          "model_name": "LayoutModel",
          "model_module_version": "1.2.0",
          "state": {
            "_view_name": "LayoutView",
            "grid_template_rows": null,
            "right": null,
            "justify_content": null,
            "_view_module": "@jupyter-widgets/base",
            "overflow": null,
            "_model_module_version": "1.2.0",
            "_view_count": null,
            "flex_flow": null,
            "width": null,
            "min_width": null,
            "border": null,
            "align_items": null,
            "bottom": null,
            "_model_module": "@jupyter-widgets/base",
            "top": null,
            "grid_column": null,
            "overflow_y": null,
            "overflow_x": null,
            "grid_auto_flow": null,
            "grid_area": null,
            "grid_template_columns": null,
            "flex": null,
            "_model_name": "LayoutModel",
            "justify_items": null,
            "grid_row": null,
            "max_height": null,
            "align_content": null,
            "visibility": null,
            "align_self": null,
            "height": null,
            "min_height": null,
            "padding": null,
            "grid_auto_rows": null,
            "grid_gap": null,
            "max_width": null,
            "order": null,
            "_view_module_version": "1.2.0",
            "grid_template_areas": null,
            "object_position": null,
            "object_fit": null,
            "grid_auto_columns": null,
            "margin": null,
            "display": null,
            "left": null
          }
        },
        "e994384523814a0ab7edf3064b5d3a6c": {
          "model_module": "@jupyter-widgets/base",
          "model_name": "LayoutModel",
          "model_module_version": "1.2.0",
          "state": {
            "_view_name": "LayoutView",
            "grid_template_rows": null,
            "right": null,
            "justify_content": null,
            "_view_module": "@jupyter-widgets/base",
            "overflow": null,
            "_model_module_version": "1.2.0",
            "_view_count": null,
            "flex_flow": null,
            "width": null,
            "min_width": null,
            "border": null,
            "align_items": null,
            "bottom": null,
            "_model_module": "@jupyter-widgets/base",
            "top": null,
            "grid_column": null,
            "overflow_y": null,
            "overflow_x": null,
            "grid_auto_flow": null,
            "grid_area": null,
            "grid_template_columns": null,
            "flex": null,
            "_model_name": "LayoutModel",
            "justify_items": null,
            "grid_row": null,
            "max_height": null,
            "align_content": null,
            "visibility": null,
            "align_self": null,
            "height": null,
            "min_height": null,
            "padding": null,
            "grid_auto_rows": null,
            "grid_gap": null,
            "max_width": null,
            "order": null,
            "_view_module_version": "1.2.0",
            "grid_template_areas": null,
            "object_position": null,
            "object_fit": null,
            "grid_auto_columns": null,
            "margin": null,
            "display": null,
            "left": null
          }
        }
      }
    }
  },
  "cells": [
    {
      "cell_type": "markdown",
      "metadata": {
        "id": "0b1e4a6f"
      },
      "source": [
        "# Assessment for Advanced Data Science\n",
        "\n",
        "## Christian Cabrera, Carl Henrik Ek and Neil D. Lawrence\n",
        "\n",
        "### 29th October 2021\n",
        "\n"
      ],
      "id": "0b1e4a6f"
    },
    {
      "cell_type": "markdown",
      "metadata": {
        "id": "d7856d1b"
      },
      "source": [
        "Welcome to the course assessment for the Advanced Data Science unit. In this assessment you will build a prediction system for UK house prices. \n",
        "\n",
        "Your prediction system will be based on data from the UK Price Paid data available [here](https://www.gov.uk/government/statistical-data-sets/price-paid-data-downloads). By combining this data with the UK Office for National Statistics data on the latitude/longitude of postcodes (available [here](https://www.getthedata.com/open-postcode-geo)) you will have a record of house prices and their approximate latitude/longitude. Due to the size of these data you will use a relational database to handle them.  \n",
        "\n",
        "To make predictions of the house price you will augment your data with information obtained from Open Street Map: an open license source of mapping information. You will use the techniques you have learnt in the course to indentify and incorporate useful features for house price prediction.\n",
        "\n",
        "\n",
        "\n",
        "Alongside your implementation you will provide a short repository overview describing how you have implemented the different parts of the project and where you have placed those parts in your code repository. You will submit your code alongside a version of this notebook that will allow your examiner to understand and reconstruct the thinking behind your analysis. This notebook is structured to help you in creating that description and allow you to understand how we will allocate the marks. You should make use of the Fynesse framework (<https://github.com/lawrennd/fynesse_template>) for structuring your code. \n",
        "\n",
        "Remember the notebook you create should *tell a story*, any code that is not critical to that story can safely be placed into the associated analysis library and imported for use (structured as given in the Fynesse template)\n",
        "\n",
        "The maximum total mark for this assessment is 20. That mark is split into Three Questions below, each worth 5 marks each. Then a final 5 marks will be given for the quality, structure and reusability of the code and analysis you produce giving 20 marks in total.\n"
      ],
      "id": "d7856d1b"
    },
    {
      "cell_type": "markdown",
      "metadata": {
        "id": "bb7e7c53"
      },
      "source": [
        "### Useful Links\n",
        "\n",
        "You may find some of the following links useful when building your system.\n",
        "\n",
        "University instuctions on Security and Privacy with AWS.\n",
        "\n",
        "https://help.uis.cam.ac.uk/service/network-services/hosting-services/AWS/aws-security-privacy\n",
        "\n",
        "Security Rules in AWS \n",
        "\n",
        "https://docs.aws.amazon.com/AmazonRDS/latest/UserGuide/USER_VPC.Scenarios.html#USER_VPC.Scenario4"
      ],
      "id": "bb7e7c53"
    },
    {
      "cell_type": "markdown",
      "metadata": {
        "id": "9d3ee6ce"
      },
      "source": [
        "### Installing Your Library\n",
        "\n",
        "One artefact to be included in your submission is a python library structured according to the \"Access, Assess, Address\" standard for data science solutions. You will submit this library alongside your code. Use the cell below to perform the necessary installation instructions for your library.\n",
        "\n",
        "You should base your module on the template repository given by the Fynesse template repository. That should make it `pip` installable as below. \n",
        "\n"
      ],
      "id": "9d3ee6ce"
    },
    {
      "cell_type": "code",
      "metadata": {
        "id": "Ol082-T-YVG2"
      },
      "source": [
        "# the cell below installs the library; I've hidden it by default because of the Github username"
      ],
      "id": "Ol082-T-YVG2",
      "execution_count": null,
      "outputs": []
    },
    {
      "cell_type": "code",
      "metadata": {
        "id": "13f71cb7",
        "cellView": "form"
      },
      "source": [
        "#@title\n",
        "%pip install git+https://github.com/antoniaboca/ads_course_assessment.git"
      ],
      "id": "13f71cb7",
      "execution_count": null,
      "outputs": []
    },
    {
      "cell_type": "code",
      "metadata": {
        "colab": {
          "base_uri": "https://localhost:8080/"
        },
        "id": "QG98KZle8-bP",
        "outputId": "227d9d78-d96c-478c-c7fc-447bed18eb94"
      },
      "source": [
        "%pip install -U PyYaml"
      ],
      "id": "QG98KZle8-bP",
      "execution_count": 1,
      "outputs": [
        {
          "output_type": "stream",
          "name": "stdout",
          "text": [
            "Requirement already satisfied: PyYaml in /usr/local/lib/python3.7/dist-packages (3.13)\n",
            "Collecting PyYaml\n",
            "  Downloading PyYAML-6.0-cp37-cp37m-manylinux_2_5_x86_64.manylinux1_x86_64.manylinux_2_12_x86_64.manylinux2010_x86_64.whl (596 kB)\n",
            "\u001b[K     |████████████████████████████████| 596 kB 5.1 MB/s \n",
            "\u001b[?25hInstalling collected packages: PyYaml\n",
            "  Attempting uninstall: PyYaml\n",
            "    Found existing installation: PyYAML 3.13\n",
            "    Uninstalling PyYAML-3.13:\n",
            "      Successfully uninstalled PyYAML-3.13\n",
            "Successfully installed PyYaml-6.0\n"
          ]
        }
      ]
    },
    {
      "cell_type": "markdown",
      "metadata": {
        "id": "c2fafca0"
      },
      "source": [
        "Your own library should be installed in the line above, then you can import it as usual (where you can either replace `fynesse` with the name you've given your analysis module or you can leave the name as `fynesse` as you prefer)."
      ],
      "id": "c2fafca0"
    },
    {
      "cell_type": "code",
      "metadata": {
        "id": "db162b53",
        "colab": {
          "base_uri": "https://localhost:8080/"
        },
        "outputId": "6e1a206e-4ac1-4e06-be3c-b743bf59e691"
      },
      "source": [
        "import fynesse"
      ],
      "id": "db162b53",
      "execution_count": 2,
      "outputs": [
        {
          "output_type": "stream",
          "name": "stderr",
          "text": [
            "/usr/local/lib/python3.7/dist-packages/statsmodels/tools/_testing.py:19: FutureWarning: pandas.util.testing is deprecated. Use the functions in the public API at pandas.testing instead.\n",
            "  import pandas.util.testing as tm\n"
          ]
        }
      ]
    },
    {
      "cell_type": "markdown",
      "metadata": {
        "id": "26533cf6"
      },
      "source": [
        "## Question 1. Accessing a Database of House Prices, Latitudes and Longitudes\n",
        "\n",
        "The UK price paid data for housing in dates back to 1995 and contains millions of transactions. The size of the data makes it unwieldy to manipulate directly in python frameworks such as `pandas`. As a result we will host the data in a *relational database*. \n",
        "\n",
        "Using the following ideas.\n",
        "\n",
        "1. A cloud hosted database (such as MariaDB hosted on the AWS RDS service).\n",
        "2. The SQL language wrapped in appropriately structured python code.\n",
        "3. Joining of two databases.\n",
        "\n",
        "You will construct a database containing tables that contain all house prices, latitudes and longitudes from the UK house price data base since 1995.\n",
        "\n",
        "You will likely find the following resources helpful.\n",
        "\n",
        "1. Lecture 1, 2 and 3.\n",
        "2. Lab class 1 and 2.\n",
        "3. The UK Price Paid data for houses: <https://www.gov.uk/government/statistical-data-sets/price-paid-data-downloads>\n",
        "4. The UK ONS Data base of postcode latitude and longitudes:  <https://www.getthedata.com/open-postcode-geo>\n",
        "\n",
        "Below we provide codeboxes and hints to help you develop your answer.\n",
        "\n",
        "*The main knowledge you need to do a first pass through this question will have been taught by the end of Lab Session 2 (11th November 2021). You will likely want to review your answer as part of **refactoring** your code  and analysis pipeline shortly before hand in.*\n",
        "\n",
        "*5 Marks*"
      ],
      "id": "26533cf6"
    },
    {
      "cell_type": "markdown",
      "metadata": {
        "id": "fd689312"
      },
      "source": [
        "### Task A\n",
        "\n",
        "Set up the database. You'll need to set up a database on AWS. You were guided in how to do this in the lab sessions. You should be able to use the same database instance you created in the lab, or you can delete that and start with a fresh instance. You'll remember from the lab that the database requires credentials (username, password) to access. It's good practice to store those credentials *outside* the notebook so you don't accidentally share them by e.g. checking code into a repository. \n",
        "  \n",
        "Call the database you use for this assessment `property_prices`.\n",
        "  "
      ],
      "id": "fd689312"
    },
    {
      "cell_type": "code",
      "metadata": {
        "id": "feaf09b9",
        "colab": {
          "base_uri": "https://localhost:8080/",
          "height": 115,
          "referenced_widgets": [
            "5eb84d9e7a28481bb5f99008be0cdda2",
            "b75bb55212474e56a5e6d487e0690a28",
            "4fb41f5328cd4587a065c1b15941a9dc",
            "fa1e9634623c4f69bdd4ee59843ea6dc",
            "cf4c722821bf47d0b90d6b7fc138624d",
            "f2de4a1162b243c3b1eb9b0f0c27ee87",
            "085c5bfecf3f4edd9b4ee8924007e794",
            "6ef18aaddd6148659fbe623b33ae5c27",
            "657f5c5dee0d4ff98b7e84c65d0df695",
            "c5cc93d3e69d44099a95e12190e6ad14",
            "cf9ff030661d4126a0b5a4a2718dab3c",
            "56229e935bf4427fa1d1b94634196ff9",
            "e994384523814a0ab7edf3064b5d3a6c"
          ]
        },
        "outputId": "a97f4420-e25c-47ef-9fb0-796c150795be"
      },
      "source": [
        "# Write code for requesting and storing credentials (username, password) here. \n",
        "import yaml\n",
        "from ipywidgets import interact_manual, Text, Password\n",
        "from fynesse import access\n",
        "\n",
        "@interact_manual(username=Text(description=\"Username:\"), \n",
        "                 password=Password(description=\"Password:\"))\n",
        "def write_credentials(username, password):\n",
        "    with open(\"credentials.yaml\", \"w\") as file:\n",
        "        credentials_dict = {'username': username, \n",
        "                            'password': password}\n",
        "        yaml.dump(credentials_dict, file)"
      ],
      "id": "feaf09b9",
      "execution_count": 5,
      "outputs": [
        {
          "output_type": "display_data",
          "data": {
            "application/vnd.jupyter.widget-view+json": {
              "model_id": "5eb84d9e7a28481bb5f99008be0cdda2",
              "version_minor": 0,
              "version_major": 2
            },
            "text/plain": [
              "interactive(children=(Text(value='', description='Username:'), Password(description='Password:'), Button(descr…"
            ]
          },
          "metadata": {}
        }
      ]
    },
    {
      "cell_type": "code",
      "metadata": {
        "id": "036c419d"
      },
      "source": [
        "# Write any other setup code you need for setting up database access here.\n",
        "from fynesse import access\n",
        "\n",
        "database_details = {\"url\": \"test-mariadb.ccbxrkjdylas.eu-west-2.rds.amazonaws.com\", \n",
        "                    \"port\": 3306}\n",
        "                  \n",
        "user, password = access.read_credentials()"
      ],
      "id": "036c419d",
      "execution_count": 6,
      "outputs": []
    },
    {
      "cell_type": "code",
      "metadata": {
        "colab": {
          "base_uri": "https://localhost:8080/"
        },
        "id": "V8RSlZdljAAA",
        "outputId": "57dd7105-ac9f-4b12-d984-28bbb9998f76"
      },
      "source": [
        "# creating the 'property_prices' database\n",
        "conn = access.create_connection(user, password, database_details['url'], None)\n",
        "access.create_database(conn)\n",
        "conn.close()"
      ],
      "id": "V8RSlZdljAAA",
      "execution_count": null,
      "outputs": [
        {
          "output_type": "stream",
          "name": "stdout",
          "text": [
            "Affected rows: 0\n"
          ]
        }
      ]
    },
    {
      "cell_type": "code",
      "metadata": {
        "id": "48P0iLiH7wXH"
      },
      "source": [
        "# use connection to 'property_prices'\n",
        "conn = access.create_connection(user, password, database_details['url'], 'property_prices')"
      ],
      "id": "48P0iLiH7wXH",
      "execution_count": 7,
      "outputs": []
    },
    {
      "cell_type": "markdown",
      "metadata": {
        "id": "33c7237f"
      },
      "source": [
        "### Task B\n",
        "\n",
        "Create a database table called `pp_data` containing all the UK Price Paid data from the [gov.uk site](https://www.gov.uk/government/statistical-data-sets/price-paid-data-downloads). You'll need to prepare a new table to receive the data and upload the UK Price Paid data to your database instance. The total data is over 3 gigabytes in size. We suggest that rather than downloading the full data in CSV format, you use the fact that they have split the data into years and into different parts per year. For example, the first part of the data for 2018 is stored at <http://prod.publicdata.landregistry.gov.uk.s3-website-eu-west-1.amazonaws.com/pp-2018-part1.csv>. Each of these files is less than 100MB and can be downloaded very quickly to local disk, then uploaded using \n",
        "\n",
        "\n",
        "```\n",
        "LOCAL DATA LOAD INFILE 'filename' INTO TABLE `table_name`\n",
        "FIELDS TERMINATED BY ',' \n",
        "LINES STARTING BY '' TERMINATED BY '\\n';\n",
        "```\n",
        "*Note* this command should be wrapped and placed in an appropriately structured python module. \n",
        "\n",
        "Each 'data part' should be downloadable from the `gov.uk` site and uploadable to your database instance in a couple of seconds. By looping across the years and different parts, you should be able to robustly upload this large data set to your database instance in a matter of minutes. \n",
        "\n",
        "You may find the following schema useful in creation of your database:\n",
        "\n",
        "```\n",
        "--\n",
        "-- Table structure for table `pp_data`\n",
        "--\n",
        "DROP TABLE IF EXISTS `pp_data`;\n",
        "CREATE TABLE IF NOT EXISTS `pp_data` (\n",
        "  `transaction_unique_identifier` tinytext COLLATE utf8_bin NOT NULL,\n",
        "  `price` int(10) unsigned NOT NULL,\n",
        "  `date_of_transfer` date NOT NULL,\n",
        "  `postcode` varchar(8) COLLATE utf8_bin NOT NULL,\n",
        "  `property_type` varchar(1) COLLATE utf8_bin NOT NULL,\n",
        "  `new_build_flag` varchar(1) COLLATE utf8_bin NOT NULL,\n",
        "  `tenure_type` varchar(1) COLLATE utf8_bin NOT NULL,\n",
        "  `primary_addressable_object_name` tinytext COLLATE utf8_bin NOT NULL,\n",
        "  `secondary_addressable_object_name` tinytext COLLATE utf8_bin NOT NULL,\n",
        "  `street` tinytext COLLATE utf8_bin NOT NULL,\n",
        "  `locality` tinytext COLLATE utf8_bin NOT NULL,\n",
        "  `town_city` tinytext COLLATE utf8_bin NOT NULL,\n",
        "  `district` tinytext COLLATE utf8_bin NOT NULL,\n",
        "  `county` tinytext COLLATE utf8_bin NOT NULL,\n",
        "  `ppd_category_type` varchar(2) COLLATE utf8_bin NOT NULL,\n",
        "  `record_status` varchar(2) COLLATE utf8_bin NOT NULL,\n",
        "  `db_id` bigint(20) unsigned NOT NULL\n",
        ") DEFAULT CHARSET=utf8 COLLATE=utf8_bin AUTO_INCREMENT=1 ;\n",
        "```\n",
        "This schema is written by Dale Potter and can be found on Github here: <https://github.com/dalepotter/uk_property_price_data/blob/master/create_db.sql>\n",
        "\n",
        "You may also find it helpful to set up the following indexes in the database\n",
        "\n",
        "```\n",
        "--\n",
        "-- Indexes for table `pp_data`\n",
        "--\n",
        "ALTER TABLE `pp_data`\n",
        "ADD PRIMARY KEY (`db_id`);\n",
        "MODIFY `db_id` bigint(20) unsigned NOT NULL AUTO_INCREMENT,AUTO_INCREMENT=1;\n",
        "CREATE INDEX `pp.postcode` USING HASH\n",
        "  ON `pp_data`\n",
        "    (postcode);\n",
        "CREATE INDEX `pp.date` USING HASH\n",
        "  ON `pp_data` \n",
        "    (date_of_transfer);\n",
        "```\n"
      ],
      "id": "33c7237f"
    },
    {
      "cell_type": "markdown",
      "metadata": {
        "id": "e789b174"
      },
      "source": [
        "In the box below, briefly describe what the schema is doing and why we will find it useful to create the indexes we have for the table we've created."
      ],
      "id": "e789b174"
    },
    {
      "cell_type": "markdown",
      "metadata": {
        "id": "d7d9d674"
      },
      "source": [
        "> The schema is useful because it provides a structured way of looking at data. This tells both the programmer and the database what to expect when inputing values into the table. Having a schema might also allow for space optimisations, since the database knows the maximum width of a column.\n",
        "\n",
        "> Indexes are a way of sorting records within a table so rows can be found quickly on some query. In our particular case:\n",
        "1. The index for **postcode** will allow us to query records by the postcode column in an efficient manner. This will be useful later, when we will be joining pp_data with postcode_data to get the longitude and latitude of a house.\n",
        "2. The index for **date_of_transfer** will be useful when we will be querying the database for training data in a particular time range.\n",
        "\n"
      ],
      "id": "d7d9d674"
    },
    {
      "cell_type": "code",
      "metadata": {
        "id": "92da8c96"
      },
      "source": [
        "# Write the code you need for creating the database table and uploading the data here.\n",
        "from fynesse import access\n",
        "\n",
        "access.create_pp_data(conn)\n",
        "\n",
        "# Loading all years from 1995 to 2021 into the `pp_data` table\n",
        "gov_url = \"http://prod2.publicdata.landregistry.gov.uk.s3-website-eu-west-1.amazonaws.com/\"\n",
        "access.load_gov_data(conn, gov_url)"
      ],
      "id": "92da8c96",
      "execution_count": null,
      "outputs": []
    },
    {
      "cell_type": "markdown",
      "metadata": {
        "id": "aX2GkkMb5Z6y"
      },
      "source": [
        "\n",
        "\n",
        "> We can check that we've loaded the data properly:\n",
        "\n"
      ],
      "id": "aX2GkkMb5Z6y"
    },
    {
      "cell_type": "code",
      "metadata": {
        "colab": {
          "base_uri": "https://localhost:8080/",
          "height": 247
        },
        "id": "UNR492Ic5guJ",
        "outputId": "dc228eec-d36f-4b9b-a907-0c6ced34bff7"
      },
      "source": [
        "from fynesse import access\n",
        "\n",
        "access.table_head(conn, 'pp_data', limit=3)"
      ],
      "id": "UNR492Ic5guJ",
      "execution_count": 8,
      "outputs": [
        {
          "output_type": "stream",
          "name": "stdout",
          "text": [
            "Affected rows: 3\n"
          ]
        },
        {
          "output_type": "execute_result",
          "data": {
            "text/html": [
              "<div>\n",
              "<style scoped>\n",
              "    .dataframe tbody tr th:only-of-type {\n",
              "        vertical-align: middle;\n",
              "    }\n",
              "\n",
              "    .dataframe tbody tr th {\n",
              "        vertical-align: top;\n",
              "    }\n",
              "\n",
              "    .dataframe thead th {\n",
              "        text-align: right;\n",
              "    }\n",
              "</style>\n",
              "<table border=\"1\" class=\"dataframe\">\n",
              "  <thead>\n",
              "    <tr style=\"text-align: right;\">\n",
              "      <th></th>\n",
              "      <th>transaction_unique_identifier</th>\n",
              "      <th>price</th>\n",
              "      <th>date_of_transfer</th>\n",
              "      <th>postcode</th>\n",
              "      <th>property_type</th>\n",
              "      <th>new_build_flag</th>\n",
              "      <th>tenure_type</th>\n",
              "      <th>primary_addressable_object_name</th>\n",
              "      <th>secondary_addressable_object_name</th>\n",
              "      <th>street</th>\n",
              "      <th>locality</th>\n",
              "      <th>town_city</th>\n",
              "      <th>district</th>\n",
              "      <th>county</th>\n",
              "      <th>ppd_category_type</th>\n",
              "      <th>record_status</th>\n",
              "      <th>db_id</th>\n",
              "    </tr>\n",
              "  </thead>\n",
              "  <tbody>\n",
              "    <tr>\n",
              "      <th>0</th>\n",
              "      <td>{C8A3A576-4E89-0425-E053-6C04A8C0947B}</td>\n",
              "      <td>140000</td>\n",
              "      <td>2021-03-18</td>\n",
              "      <td>BB1 8BT</td>\n",
              "      <td>T</td>\n",
              "      <td>N</td>\n",
              "      <td>F</td>\n",
              "      <td>26</td>\n",
              "      <td></td>\n",
              "      <td>PARK AVENUE</td>\n",
              "      <td></td>\n",
              "      <td>BLACKBURN</td>\n",
              "      <td>BLACKBURN WITH DARWEN</td>\n",
              "      <td>BLACKBURN WITH DARWEN</td>\n",
              "      <td>A</td>\n",
              "      <td>A</td>\n",
              "      <td>1</td>\n",
              "    </tr>\n",
              "    <tr>\n",
              "      <th>1</th>\n",
              "      <td>{C8A3A576-4E8A-0425-E053-6C04A8C0947B}</td>\n",
              "      <td>80500</td>\n",
              "      <td>2021-06-18</td>\n",
              "      <td>FY7 7ND</td>\n",
              "      <td>T</td>\n",
              "      <td>N</td>\n",
              "      <td>F</td>\n",
              "      <td>3</td>\n",
              "      <td></td>\n",
              "      <td>NORTHFLEET AVENUE</td>\n",
              "      <td></td>\n",
              "      <td>FLEETWOOD</td>\n",
              "      <td>WYRE</td>\n",
              "      <td>LANCASHIRE</td>\n",
              "      <td>B</td>\n",
              "      <td>A</td>\n",
              "      <td>2</td>\n",
              "    </tr>\n",
              "    <tr>\n",
              "      <th>2</th>\n",
              "      <td>{C8A3A576-4E8B-0425-E053-6C04A8C0947B}</td>\n",
              "      <td>220000</td>\n",
              "      <td>2021-06-18</td>\n",
              "      <td>PR26 7AW</td>\n",
              "      <td>D</td>\n",
              "      <td>N</td>\n",
              "      <td>F</td>\n",
              "      <td>91</td>\n",
              "      <td></td>\n",
              "      <td>FERNLEIGH</td>\n",
              "      <td></td>\n",
              "      <td>LEYLAND</td>\n",
              "      <td>SOUTH RIBBLE</td>\n",
              "      <td>LANCASHIRE</td>\n",
              "      <td>A</td>\n",
              "      <td>A</td>\n",
              "      <td>3</td>\n",
              "    </tr>\n",
              "  </tbody>\n",
              "</table>\n",
              "</div>"
            ],
            "text/plain": [
              "            transaction_unique_identifier   price  ... record_status db_id\n",
              "0  {C8A3A576-4E89-0425-E053-6C04A8C0947B}  140000  ...             A     1\n",
              "1  {C8A3A576-4E8A-0425-E053-6C04A8C0947B}   80500  ...             A     2\n",
              "2  {C8A3A576-4E8B-0425-E053-6C04A8C0947B}  220000  ...             A     3\n",
              "\n",
              "[3 rows x 17 columns]"
            ]
          },
          "metadata": {},
          "execution_count": 8
        }
      ]
    },
    {
      "cell_type": "markdown",
      "metadata": {
        "id": "bb9ece66"
      },
      "source": [
        "### Task C\n",
        "\n",
        "Create a database table called `postcode_data` containing the ONS Postcode information. <GetTheData.com> has organised data derived from the UK Office for National Statistics into a convenient CSV file. You can find details [here](https://www.getthedata.com/open-postcode-geo).\n",
        "\n",
        "\n",
        "The data you need can be found at this url: <https://www.getthedata.com/downloads/open_postcode_geo.csv.zip>. It will need to be unzipped before use.\n",
        "\n",
        "You may find the following schema useful for the postcode data (developed by Christian and Neil)\n",
        "\n",
        "```\n",
        "USE `property_prices`;\n",
        "--\n",
        "-- Table structure for table `postcode_data`\n",
        "--\n",
        "DROP TABLE IF EXISTS `postcode_data`;\n",
        "CREATE TABLE IF NOT EXISTS `postcode_data` (\n",
        "  `postcode` varchar(8) COLLATE utf8_bin NOT NULL,\n",
        "  `status` enum('live','terminated') NOT NULL,\n",
        "  `usertype` enum('small', 'large') NOT NULL,\n",
        "  `easting` int unsigned,\n",
        "  `northing` int unsigned,\n",
        "  `positional_quality_indicator` int NOT NULL,\n",
        "  `country` enum('England', 'Wales', 'Scotland', 'Northern Ireland', 'Channel Islands', 'Isle of Man') NOT NULL,\n",
        "  `lattitude` decimal(11,8) NOT NULL,\n",
        "  `longitude` decimal(10,8) NOT NULL,\n",
        "  `postcode_no_space` tinytext COLLATE utf8_bin NOT NULL,\n",
        "  `postcode_fixed_width_seven` varchar(7) COLLATE utf8_bin NOT NULL,\n",
        "  `postcode_fixed_width_eight` varchar(8) COLLATE utf8_bin NOT NULL,\n",
        "  `postcode_area` varchar(2) COLLATE utf8_bin NOT NULL,\n",
        "  `postcode_district` varchar(4) COLLATE utf8_bin NOT NULL,\n",
        "  `postcode_sector` varchar(6) COLLATE utf8_bin NOT NULL,\n",
        "  `outcode` varchar(4) COLLATE utf8_bin NOT NULL,\n",
        "  `incode` varchar(3)  COLLATE utf8_bin NOT NULL,\n",
        "  `db_id` bigint(20) unsigned NOT NULL\n",
        ") DEFAULT CHARSET=utf8 COLLATE=utf8_bin;\n",
        "```\n",
        "\n",
        "And again you'll want to set up indices for your table.\n",
        "\n",
        "```\n",
        "ALTER TABLE `postcode_data`\n",
        "ADD PRIMARY KEY (`db_id`);\n",
        "MODIFY `db_id` bigint(20) unsigned NOT NULL AUTO_INCREMENT,AUTO_INCREMENT=1;\n",
        "CREATE INDEX `po.postcode` USING HASH\n",
        "  ON `postcode_data`\n",
        "    (postcode);\n",
        "```\n",
        "\n",
        "And you can load the CSV file into the table in one \"INFILE\".\n",
        "\n",
        "```\n",
        "LOAD DATA LOCAL INFILE 'open_postcode_geo.csv' INTO TABLE `postcode_data`\n",
        "FIELDS TERMINATED BY ',' \n",
        "LINES STARTING BY '' TERMINATED BY '\\n';\n",
        "```"
      ],
      "id": "bb9ece66"
    },
    {
      "cell_type": "code",
      "metadata": {
        "colab": {
          "base_uri": "https://localhost:8080/"
        },
        "id": "7tsiMR8L8fbU",
        "outputId": "6d5060d9-f50c-45ea-8d55-a0f7f45f024b"
      },
      "source": [
        "# create the postcode_data table\n",
        "from fynesse import access\n",
        "\n",
        "postcode_url = 'https://www.getthedata.com/downloads/open_postcode_geo.csv.zip'\n",
        "access.create_postcode_data(conn)\n",
        "access.load_postcode_data(conn, postcode_url)"
      ],
      "id": "7tsiMR8L8fbU",
      "execution_count": null,
      "outputs": [
        {
          "output_type": "stream",
          "name": "stdout",
          "text": [
            "Affected rows: 0\n",
            "Saved file to postcode.csv.zip\n",
            "Extracted file into .\n",
            "Affected rows: 2581933\n"
          ]
        }
      ]
    },
    {
      "cell_type": "markdown",
      "metadata": {
        "id": "21DVTJDV-O1d"
      },
      "source": [
        "\n",
        "\n",
        "> Again, we can check that we have loaded the data properly:\n",
        "\n"
      ],
      "id": "21DVTJDV-O1d"
    },
    {
      "cell_type": "code",
      "metadata": {
        "colab": {
          "base_uri": "https://localhost:8080/",
          "height": 179
        },
        "id": "z0ksuBIj-Trw",
        "outputId": "2f1f3d5e-4670-40f7-fc21-9a5e6ec058ff"
      },
      "source": [
        "access.table_head(conn, 'postcode_data', limit=3)"
      ],
      "id": "z0ksuBIj-Trw",
      "execution_count": 9,
      "outputs": [
        {
          "output_type": "stream",
          "name": "stdout",
          "text": [
            "Affected rows: 3\n"
          ]
        },
        {
          "output_type": "execute_result",
          "data": {
            "text/html": [
              "<div>\n",
              "<style scoped>\n",
              "    .dataframe tbody tr th:only-of-type {\n",
              "        vertical-align: middle;\n",
              "    }\n",
              "\n",
              "    .dataframe tbody tr th {\n",
              "        vertical-align: top;\n",
              "    }\n",
              "\n",
              "    .dataframe thead th {\n",
              "        text-align: right;\n",
              "    }\n",
              "</style>\n",
              "<table border=\"1\" class=\"dataframe\">\n",
              "  <thead>\n",
              "    <tr style=\"text-align: right;\">\n",
              "      <th></th>\n",
              "      <th>postcode</th>\n",
              "      <th>status</th>\n",
              "      <th>usertype</th>\n",
              "      <th>easting</th>\n",
              "      <th>northing</th>\n",
              "      <th>positional_quality_indicator</th>\n",
              "      <th>country</th>\n",
              "      <th>latitude</th>\n",
              "      <th>longitude</th>\n",
              "      <th>postcode_no_space</th>\n",
              "      <th>postcode_fixed_width_seven</th>\n",
              "      <th>postcode_fixed_width_eight</th>\n",
              "      <th>postcode_area</th>\n",
              "      <th>postcode_district</th>\n",
              "      <th>postcode_sector</th>\n",
              "      <th>outcode</th>\n",
              "      <th>incode</th>\n",
              "      <th>db_id</th>\n",
              "    </tr>\n",
              "  </thead>\n",
              "  <tbody>\n",
              "    <tr>\n",
              "      <th>0</th>\n",
              "      <td>AB1 0AB</td>\n",
              "      <td>terminated</td>\n",
              "      <td>small</td>\n",
              "      <td>385177</td>\n",
              "      <td>801314</td>\n",
              "      <td>1</td>\n",
              "      <td>Scotland</td>\n",
              "      <td>57.10255400</td>\n",
              "      <td>-2.24630800</td>\n",
              "      <td>AB10AB</td>\n",
              "      <td>AB1 0AB</td>\n",
              "      <td>AB1  0AB</td>\n",
              "      <td>AB</td>\n",
              "      <td>AB1</td>\n",
              "      <td>AB1 0</td>\n",
              "      <td>AB1</td>\n",
              "      <td>0AB</td>\n",
              "      <td>1</td>\n",
              "    </tr>\n",
              "    <tr>\n",
              "      <th>1</th>\n",
              "      <td>AB1 0AD</td>\n",
              "      <td>terminated</td>\n",
              "      <td>small</td>\n",
              "      <td>385053</td>\n",
              "      <td>801092</td>\n",
              "      <td>1</td>\n",
              "      <td>Scotland</td>\n",
              "      <td>57.10055600</td>\n",
              "      <td>-2.24834200</td>\n",
              "      <td>AB10AD</td>\n",
              "      <td>AB1 0AD</td>\n",
              "      <td>AB1  0AD</td>\n",
              "      <td>AB</td>\n",
              "      <td>AB1</td>\n",
              "      <td>AB1 0</td>\n",
              "      <td>AB1</td>\n",
              "      <td>0AD</td>\n",
              "      <td>2</td>\n",
              "    </tr>\n",
              "    <tr>\n",
              "      <th>2</th>\n",
              "      <td>AB1 0AE</td>\n",
              "      <td>terminated</td>\n",
              "      <td>small</td>\n",
              "      <td>384600</td>\n",
              "      <td>799300</td>\n",
              "      <td>8</td>\n",
              "      <td>Scotland</td>\n",
              "      <td>57.08444400</td>\n",
              "      <td>-2.25570800</td>\n",
              "      <td>AB10AE</td>\n",
              "      <td>AB1 0AE</td>\n",
              "      <td>AB1  0AE</td>\n",
              "      <td>AB</td>\n",
              "      <td>AB1</td>\n",
              "      <td>AB1 0</td>\n",
              "      <td>AB1</td>\n",
              "      <td>0AE</td>\n",
              "      <td>3</td>\n",
              "    </tr>\n",
              "  </tbody>\n",
              "</table>\n",
              "</div>"
            ],
            "text/plain": [
              "  postcode      status usertype  easting  ...  postcode_sector  outcode incode db_id\n",
              "0  AB1 0AB  terminated    small   385177  ...            AB1 0      AB1    0AB     1\n",
              "1  AB1 0AD  terminated    small   385053  ...            AB1 0      AB1    0AD     2\n",
              "2  AB1 0AE  terminated    small   384600  ...            AB1 0      AB1    0AE     3\n",
              "\n",
              "[3 rows x 18 columns]"
            ]
          },
          "metadata": {},
          "execution_count": 9
        }
      ]
    },
    {
      "cell_type": "markdown",
      "metadata": {
        "id": "d67ca4ef"
      },
      "source": [
        "### Task D \n",
        "\n",
        "These data can now be joined to form a new table that contains house price paid and latitude longitude of the house. We could create a new table that contains all this information. However, the computation of that table will take some time because of the size of the two existing tables in the join. \n",
        "\n",
        "Instead, we're going to exploit the nature of the task. To build our prediction model, we're going to use the prices for a particular region in a given time period. This means we can select that region and time period and build the joined data only from the relevent rows from the two tables. This will save time on the join.\n",
        "\n",
        "Whether this is a good idea or not in a live system will depend on how often these predictions are required. If it's very often, it would likely be better to store the entired database joined, because the one-off cost for that join is amortised across all the future predictions. If only a few predictions are required (like in our lab class) then doing that join on the fly might be better. In that case you can make use of an  *inner join* for this data set creation.\n",
        "\n",
        "```\n",
        "USE `property_prices`;\n",
        "--\n",
        "-- Table structure for table `prices_coordinates_data`\n",
        "--\n",
        "DROP TABLE IF EXISTS `prices_coordinates_data`;\n",
        "CREATE TABLE IF NOT EXISTS `prices_coordinates_data` (\n",
        "  `price` int(10) unsigned NOT NULL,\n",
        "  `date_of_transfer` date NOT NULL,\n",
        "  `postcode` varchar(8) COLLATE utf8_bin NOT NULL,\n",
        "  `property_type` varchar(1) COLLATE utf8_bin NOT NULL,\n",
        "  `new_build_flag` varchar(1) COLLATE utf8_bin NOT NULL,\n",
        "  `tenure_type` varchar(1) COLLATE utf8_bin NOT NULL,\n",
        "  `locality` tinytext COLLATE utf8_bin NOT NULL,\n",
        "  `town_city` tinytext COLLATE utf8_bin NOT NULL,\n",
        "  `district` tinytext COLLATE utf8_bin NOT NULL,\n",
        "  `county` tinytext COLLATE utf8_bin NOT NULL,\n",
        "  `country` enum('England', 'Wales', 'Scotland', 'Northern Ireland', 'Channel Islands', 'Isle of Man') NOT NULL,\n",
        "  `lattitude` decimal(11,8) NOT NULL,\n",
        "  `longitude` decimal(10,8) NOT NULL,\n",
        "  `db_id` bigint(20) unsigned NOT NULL\n",
        ") DEFAULT CHARSET=utf8 COLLATE=utf8_bin AUTO_INCREMENT=1 ;\n",
        "\n",
        "\n",
        "```\n",
        "\n"
      ],
      "id": "d67ca4ef"
    },
    {
      "cell_type": "code",
      "metadata": {
        "colab": {
          "base_uri": "https://localhost:8080/"
        },
        "id": "nwNf38Ba-dZS",
        "outputId": "34c05ecd-5b16-45c0-c7da-4ac78fa3526d"
      },
      "source": [
        "# Creating 'prices_coordinates_data'\n",
        "\n",
        "from fynesse import access\n",
        "access.create_prices_coordinates_data(conn)"
      ],
      "id": "nwNf38Ba-dZS",
      "execution_count": null,
      "outputs": [
        {
          "output_type": "stream",
          "name": "stdout",
          "text": [
            "Affected rows: 0\n"
          ]
        },
        {
          "output_type": "execute_result",
          "data": {
            "text/plain": [
              "()"
            ]
          },
          "metadata": {},
          "execution_count": 8
        }
      ]
    },
    {
      "cell_type": "markdown",
      "metadata": {
        "id": "waF27Yuu_BEo"
      },
      "source": [
        "\n",
        "\n",
        "> Now, it is worth mentioning that `prices_coordinates_data` will **cache** the results of whatever joins we will be doing on the fly in Question 3. This, roughly, how we select the data to update this table:\n",
        "\n",
        "```\n",
        "  query = f\"\"\"\n",
        "    SELECT p.price, p.date_of_transfer, p.postcode, p.property_type, \n",
        "    p.new_build_flag, p.tenure_type, p.locality, p.town_city, p.district, p.county, c.country, c.latitude, c.longitude FROM\n",
        "      (SELECT postcode, country, latitude, longitude FROM postcode_data\n",
        "      WHERE latitude BETWEEN '{south}' AND '{north}' AND longitude BETWEEN '{west}' AND '{east}') c\n",
        "    INNER JOIN  \n",
        "      (SELECT * FROM pp_data\n",
        "        WHERE date_of_transfer BETWEEN '{start_time}' AND '{end_time}' AND property_type = '{property_type}'\n",
        "        AND postcode NOT IN (SELECT postcode FROM prices_coordinates_data)) p\n",
        "    ON\n",
        "      p.postcode = c.postcode \n",
        "  \"\"\"\n",
        "```\n",
        "> So the way we are using `prices_coordinates_data` is the following:     \n",
        "1. Search for houses that are not in `prices_coordinates_data`, i.e. these are houses for which we don't have coordinates yet. \n",
        "2. Join these houses with their corresponding coordinates, using `postcode_data`.\n",
        "3. Update `prices_coordinates_data` with these newly-found houses.\n",
        "4. Query `prices_coordinates_data` for the houses we need for our model."
      ],
      "id": "waF27Yuu_BEo"
    },
    {
      "cell_type": "markdown",
      "metadata": {
        "id": "nidzweXVAqh3"
      },
      "source": [
        "\n",
        "\n",
        "> Now that we have created all three tables, we can check their sizes:\n",
        "\n"
      ],
      "id": "nidzweXVAqh3"
    },
    {
      "cell_type": "code",
      "metadata": {
        "colab": {
          "base_uri": "https://localhost:8080/",
          "height": 159
        },
        "id": "SaDAC5uCAoVm",
        "outputId": "ba33d472-bf37-4f60-93eb-c67da503828d"
      },
      "source": [
        "from fynesse.access_scripts import sql\n",
        "\n",
        "sql.database_size(conn)"
      ],
      "id": "SaDAC5uCAoVm",
      "execution_count": 10,
      "outputs": [
        {
          "output_type": "stream",
          "name": "stdout",
          "text": [
            "Affected rows: 3\n"
          ]
        },
        {
          "output_type": "execute_result",
          "data": {
            "text/html": [
              "<div>\n",
              "<style scoped>\n",
              "    .dataframe tbody tr th:only-of-type {\n",
              "        vertical-align: middle;\n",
              "    }\n",
              "\n",
              "    .dataframe tbody tr th {\n",
              "        vertical-align: top;\n",
              "    }\n",
              "\n",
              "    .dataframe thead th {\n",
              "        text-align: right;\n",
              "    }\n",
              "</style>\n",
              "<table border=\"1\" class=\"dataframe\">\n",
              "  <thead>\n",
              "    <tr style=\"text-align: right;\">\n",
              "      <th></th>\n",
              "      <th>TABLE_SCHEMA</th>\n",
              "      <th>TABLE_NAME</th>\n",
              "      <th>Approximate size (MB)</th>\n",
              "    </tr>\n",
              "  </thead>\n",
              "  <tbody>\n",
              "    <tr>\n",
              "      <th>0</th>\n",
              "      <td>property_prices</td>\n",
              "      <td>pp_data</td>\n",
              "      <td>5820.98</td>\n",
              "    </tr>\n",
              "    <tr>\n",
              "      <th>1</th>\n",
              "      <td>property_prices</td>\n",
              "      <td>postcode_data</td>\n",
              "      <td>343.48</td>\n",
              "    </tr>\n",
              "    <tr>\n",
              "      <th>2</th>\n",
              "      <td>property_prices</td>\n",
              "      <td>prices_coordinates_data</td>\n",
              "      <td>0.61</td>\n",
              "    </tr>\n",
              "  </tbody>\n",
              "</table>\n",
              "</div>"
            ],
            "text/plain": [
              "      TABLE_SCHEMA               TABLE_NAME Approximate size (MB)\n",
              "0  property_prices                  pp_data               5820.98\n",
              "1  property_prices            postcode_data                343.48\n",
              "2  property_prices  prices_coordinates_data                  0.61"
            ]
          },
          "metadata": {},
          "execution_count": 10
        }
      ]
    },
    {
      "cell_type": "markdown",
      "metadata": {
        "id": "df36e5d1"
      },
      "source": [
        "## Question 2. Accessing OpenStreetMap and Assessing the Available Features\n",
        "\n",
        "In question 3 you will be given the task of constructing a prediction system for property price levels at a given location. We expect that knowledge of the local region around the property should be helpful in making those price predictions. To evaluate this we will now look at [OpenStreetMap](https://www.openstreetmap.org) as a data source.\n",
        "\n",
        "The tasks below will guide you in accessing and assessing the OpenStreetMap data. The code you write will eventually be assimilated in your python module, but documentation of what you've included and why should remain in the notebook below. \n",
        "\n",
        "Accessing OpenStreetMap through its API can be done using the python library `osmx`. Using what you have learned about the `osmx` interface in the lectures, write general code for downloading points of interest and other relevant information that you believe may be useful for predicting house prices. Remembering the perspectives we've taken on *data science as debugging*, the remarks we've made when discussing *the data crisis* of the importance of reusability in data analysis, and the techniques we've explored in the labsessions for visualising features and exploring their correlation use the notebook to document your assessment of the OpenStreetMap data as a potential source of data.\n",
        "\n",
        "The knowledge you need to do a first pass through this question will have been taught by end of lab session three (16th November 2021). You will likely want to review your answer as part of *refactoring* your code and analysis pipeline shortly before hand in.\n",
        "\n",
        "You should write reusable code that allows you to explore the characteristics of different points of interest. Looking ahead to question 3 you'll want to incorporate these points of interest in your prediction code.\n",
        "\n",
        "*5 marks*\n"
      ],
      "id": "df36e5d1"
    },
    {
      "cell_type": "markdown",
      "metadata": {
        "id": "d_eBMFJZdV40"
      },
      "source": [
        "### **First part**: global trends"
      ],
      "id": "d_eBMFJZdV40"
    },
    {
      "cell_type": "markdown",
      "metadata": {
        "id": "AlJEGIsBB5cD"
      },
      "source": [
        "> Before starting with OpenStreetMap, I've decided to see how the data 'looks like'. Of course we all expect that the location of a house influences its price, but how important is this factor? \n",
        "For example, we all know that London is expensive. But how expensive is it?\n",
        "\n",
        "> My `assess` module runs code that asserts everything I've loaded into my database is valid. It should raise `AssertionError` whenever a column that is necessary for my analysis isn't there - like price, for example."
      ],
      "id": "AlJEGIsBB5cD"
    },
    {
      "cell_type": "code",
      "metadata": {
        "id": "kvMRj5tqDF3u"
      },
      "source": [
        "!mkdir data"
      ],
      "id": "kvMRj5tqDF3u",
      "execution_count": 11,
      "outputs": []
    },
    {
      "cell_type": "code",
      "metadata": {
        "id": "042a2863",
        "colab": {
          "base_uri": "https://localhost:8080/",
          "height": 463
        },
        "outputId": "a66f95db-f85e-42bc-a1a7-90bf958577af"
      },
      "source": [
        "# Use this cell and cells below for summarising your analysis and documenting your decision making.\n",
        "\n",
        "from fynesse import assess, access\n",
        "\n",
        "# Let's see how expensive London was in January, 2019\n",
        "london = access.region_data(conn, '2019-01-01', '2019-01-31', 'town_city', 'London')\n",
        "london = assess.assess_houses(london)\n",
        "assess.show_average_bar(london, group_by='postcode_area')"
      ],
      "id": "042a2863",
      "execution_count": 12,
      "outputs": [
        {
          "output_type": "stream",
          "name": "stdout",
          "text": [
            "Affected rows: 4623\n",
            "Assessing dataframe...\n",
            "Assessment is finished.\n"
          ]
        },
        {
          "output_type": "display_data",
          "data": {
            "image/png": "[encoded data removed]",
            "text/plain": [
              "<Figure size 576x432 with 1 Axes>"
            ]
          },
          "metadata": {
            "needs_background": "light"
          }
        }
      ]
    },
    {
      "cell_type": "code",
      "metadata": {
        "colab": {
          "base_uri": "https://localhost:8080/"
        },
        "id": "1TrV0U4nEyfS",
        "outputId": "fc432d03-b679-4b1a-f7ee-dde6132f4d04"
      },
      "source": [
        "# But how does that look on a map?\n",
        "# Let's load the boundaries of London neighbourhoods and compute the average price in each\n",
        "\n",
        "url = \"https://data.london.gov.uk/download/statistical-gis-boundary-files-london/9ba8c833-6370-4b11-abdc-314aa020d5e0/statistical-gis-boundaries-london.zip\"\n",
        "access.load_london_wards(url)\n",
        "region_map = './data/statistical-gis-boundaries-london/ESRI/London_Ward_CityMerged.shp'\n"
      ],
      "id": "1TrV0U4nEyfS",
      "execution_count": 13,
      "outputs": [
        {
          "output_type": "stream",
          "name": "stdout",
          "text": [
            "Saved file to ./data/london-wards.zip\n",
            "Extracted file into ./data/\n"
          ]
        }
      ]
    },
    {
      "cell_type": "code",
      "metadata": {
        "colab": {
          "base_uri": "https://localhost:8080/",
          "height": 603
        },
        "id": "Xt3MfVxrFf46",
        "outputId": "cf7a5960-e52f-4814-9702-ea78b4939add"
      },
      "source": [
        "london, map_df = assess.query_map(london, region_map)\n",
        "assess.show_average_map(london, map_df, figsize=(15, 10), log_scale=True)"
      ],
      "id": "Xt3MfVxrFf46",
      "execution_count": 16,
      "outputs": [
        {
          "output_type": "display_data",
          "data": {
            "image/png": "[encoded data removed]",
            "text/plain": [
              "<Figure size 1080x720 with 2 Axes>"
            ]
          },
          "metadata": {
            "needs_background": "light"
          }
        }
      ]
    },
    {
      "cell_type": "markdown",
      "metadata": {
        "id": "lBrHj2kZG9MF"
      },
      "source": [
        "\n",
        "\n",
        "> We can clearly see a tendency towards more expensive houses in central London. Now let's look at different types of properties. I hypothesize that in general, flats are less expensive than detached houses, for example.\n",
        "\n"
      ],
      "id": "lBrHj2kZG9MF"
    },
    {
      "cell_type": "code",
      "metadata": {
        "colab": {
          "base_uri": "https://localhost:8080/",
          "height": 592
        },
        "id": "w4JDm0MTG8Pf",
        "outputId": "123eab1a-f220-402f-8a27-636d5a83aa2f"
      },
      "source": [
        "# Check tendencies for property_types\n",
        "assess.show_boxplot(london, grouped='property_type', log_scale=True)"
      ],
      "id": "w4JDm0MTG8Pf",
      "execution_count": 17,
      "outputs": [
        {
          "output_type": "display_data",
          "data": {
            "image/png": "[encoded data removed]",
            "text/plain": [
              "<Figure size 576x720 with 1 Axes>"
            ]
          },
          "metadata": {
            "needs_background": "light"
          }
        }
      ]
    },
    {
      "cell_type": "markdown",
      "metadata": {
        "id": "W4SAzAs-IhKl"
      },
      "source": [
        "> We can see that `property_type = OTHER` means a more spread out range of values (which makes sense, since it `OTHER` could mean both a mansion or a cottage. Also, the average price of a flat is less than the average price of a detached house, but there are some outlier flats that are more expensive (probably some penthouses in South Kensington).\n",
        "\n",
        "> Therefore, my first decision for the model will be to split it up by **property type**. When predicting the price of a flat, I will only be analyzing other flats, for example.\n",
        "\n",
        "> Analyzing property types from a different perspective, we might be able to hypothesize a distribution they might be coming from:"
      ],
      "id": "W4SAzAs-IhKl"
    },
    {
      "cell_type": "code",
      "metadata": {
        "colab": {
          "base_uri": "https://localhost:8080/",
          "height": 621
        },
        "id": "Y9y7XAdnJVtC",
        "outputId": "84babd39-2f01-4c59-8e5d-23e731c4c621"
      },
      "source": [
        "import matplotlib.pyplot as plt\n",
        "\n",
        "fig, axs = plt.subplots(1,5)\n",
        "fig.set_size_inches(15, 10)\n",
        "prop_types = ['F', 'S', 'D', 'T', 'O']\n",
        "count = 0\n",
        "for prop in prop_types:\n",
        "  houses = london[london['property_type'] == prop]\n",
        "  axs[count].hist(houses['price'], bins=20)\n",
        "  axs[count].set_title(prop)\n",
        "  count += 1"
      ],
      "id": "Y9y7XAdnJVtC",
      "execution_count": 18,
      "outputs": [
        {
          "output_type": "display_data",
          "data": {
            "image/png": "[encoded data removed]",
            "text/plain": [
              "<Figure size 1080x720 with 5 Axes>"
            ]
          },
          "metadata": {
            "needs_background": "light"
          }
        }
      ]
    },
    {
      "cell_type": "markdown",
      "metadata": {
        "id": "Iq31nMqTKzt4"
      },
      "source": [
        "> All of them are skewed to the left, with a long tail to the right. I'd like to see what happens if I apply a transformation to them. Will they become Normal distributions? Fortunately, `scipy` has the `shapiro-wilk` test that I can use to check."
      ],
      "id": "Iq31nMqTKzt4"
    },
    {
      "cell_type": "code",
      "metadata": {
        "colab": {
          "base_uri": "https://localhost:8080/",
          "height": 692
        },
        "id": "_SwB1BLKLBsJ",
        "outputId": "bceb7c45-272b-4ecc-f03b-a416c89d8bf3"
      },
      "source": [
        "import matplotlib.pyplot as plt\n",
        "import numpy as np\n",
        "from scipy.stats import shapiro\n",
        "\n",
        "# significance testing to see whether the distribution of prices is, in fact, normal\n",
        "# after applying a log-transformation.\n",
        "\n",
        "fig, axs = plt.subplots(1,5)\n",
        "fig.set_size_inches(15, 10)\n",
        "prop_types = ['F', 'S', 'D', 'T', 'O']\n",
        "count = 0\n",
        "for prop in prop_types:\n",
        "  houses = london[london['property_type'] == prop]\n",
        "  axs[count].hist(np.log(houses['price']), bins=20)\n",
        "  axs[count].set_title(prop)\n",
        "  count += 1\n",
        "\n",
        "  _, p = shapiro(np.log(houses['price']))\n",
        "  if p > 0.05:\n",
        "    print(f'Distribution for {prop} looks Gaussian')\n",
        "  else:\n",
        "    print(f'Distribution for {prop} does not look Gaussian')\n",
        "  "
      ],
      "id": "_SwB1BLKLBsJ",
      "execution_count": 19,
      "outputs": [
        {
          "output_type": "stream",
          "name": "stdout",
          "text": [
            "Distribution for F does not look Gaussian\n",
            "Distribution for S does not look Gaussian\n",
            "Distribution for D looks Gaussian\n",
            "Distribution for T does not look Gaussian\n",
            "Distribution for O does not look Gaussian\n"
          ]
        },
        {
          "output_type": "display_data",
          "data": {
            "image/png": "[encoded data removed]",
            "text/plain": [
              "<Figure size 1080x720 with 5 Axes>"
            ]
          },
          "metadata": {
            "needs_background": "light"
          }
        }
      ]
    },
    {
      "cell_type": "markdown",
      "metadata": {
        "id": "FINlOJ9dVbw_"
      },
      "source": [
        "> We can see that general price tendencies do not follow a Normal distribution. However, from the look of the non-transformed histograms we could try to fit each property type under a Gamma distribution.\n",
        "\n",
        "### **Second part**: local trends\n",
        "\n",
        "> The next thing I am curious about is how the prices are distributed within a certain bouding box. Let's say I choose a house and take all houses nearby. What would the distribution of prices look like?"
      ],
      "id": "FINlOJ9dVbw_"
    },
    {
      "cell_type": "code",
      "metadata": {
        "colab": {
          "base_uri": "https://localhost:8080/"
        },
        "id": "3HzxwPnxXGHv",
        "outputId": "76a7a0d9-6ccd-4bd8-f12b-4b4bf324f3be"
      },
      "source": [
        "from fynesse import assess\n",
        "\n",
        "# Let's take a house from oxford\n",
        "latitude = 51.76129500\n",
        "longitude = -1.21155800\n",
        "h_price = 400000\n",
        "\n",
        "box = assess.get_box(latitude, longitude, 0.09, 0.08)\n",
        "oxford = access.box_data(conn, box, '2018-06-01', '2020-06-01', 'F')\n",
        "oxford = assess.assess_houses(oxford)"
      ],
      "id": "3HzxwPnxXGHv",
      "execution_count": 20,
      "outputs": [
        {
          "output_type": "stream",
          "name": "stdout",
          "text": [
            "Affected rows: 0\n",
            "Affected rows: 0\n",
            "Loaded rows from temp_join.csv to prices_coordinates_data\n",
            "Affected rows: 702\n",
            "Assessing dataframe...\n",
            "Assessment is finished.\n"
          ]
        }
      ]
    },
    {
      "cell_type": "code",
      "metadata": {
        "colab": {
          "base_uri": "https://localhost:8080/",
          "height": 307
        },
        "id": "ZOcC7penO0Or",
        "outputId": "537a74f7-a94f-4dc9-9167-f7012e188258"
      },
      "source": [
        "from geopy import distance\n",
        "import matplotlib.pyplot as plt\n",
        "import numpy as np\n",
        "\n",
        "dist = [distance.distance((lat, long), (latitude, longitude)).km for lat, long in zip(oxford['latitude'], oxford['longitude'])]\n",
        "plt.xlabel(\"Distance in km\")\n",
        "plt.ylabel(\"Difference in £\")\n",
        "plt.scatter(dist, np.abs(oxford['price'] - h_price))\n"
      ],
      "id": "ZOcC7penO0Or",
      "execution_count": 21,
      "outputs": [
        {
          "output_type": "execute_result",
          "data": {
            "text/plain": [
              "<matplotlib.collections.PathCollection at 0x7f5a406a4990>"
            ]
          },
          "metadata": {},
          "execution_count": 21
        },
        {
          "output_type": "display_data",
          "data": {
            "image/png": "[encoded data removed]",
            "text/plain": [
              "<Figure size 432x288 with 1 Axes>"
            ]
          },
          "metadata": {
            "needs_background": "light"
          }
        }
      ]
    },
    {
      "cell_type": "markdown",
      "metadata": {
        "id": "6hf_6NXPcrzF"
      },
      "source": [
        "> From this, I can draw two observations:    \n",
        "1. There is **no** point in having a bounding box **bigger than 2km**\n",
        "2. A house's price tends to be similar to the price of neighbouring houses (that have the same type). \n",
        "\n",
        "Then, let's take a closer look at a smaller bouding box."
      ],
      "id": "6hf_6NXPcrzF"
    },
    {
      "cell_type": "code",
      "metadata": {
        "id": "iWS0sZ0Yftja",
        "colab": {
          "base_uri": "https://localhost:8080/"
        },
        "outputId": "dd62ee6c-4d52-44e3-a396-fa606a811136"
      },
      "source": [
        "# take a house in Manchester\n",
        "longitude = -2.24465900\n",
        "latitude = 53.43426900\n",
        "h_price = 87900\n",
        "prop_type = 'T'\n",
        "\n",
        "box = assess.get_box(latitude, longitude, 0.01, 0.01)\n",
        "manchester = access.box_data(conn, box, '2018-06-01', '2019-06-01', 'T')\n",
        "manchester = assess.assess_houses(manchester)"
      ],
      "id": "iWS0sZ0Yftja",
      "execution_count": 22,
      "outputs": [
        {
          "output_type": "stream",
          "name": "stdout",
          "text": [
            "Affected rows: 0\n",
            "Affected rows: 0\n",
            "Loaded rows from temp_join.csv to prices_coordinates_data\n",
            "Affected rows: 76\n",
            "Assessing dataframe...\n",
            "Assessment is finished.\n"
          ]
        }
      ]
    },
    {
      "cell_type": "code",
      "metadata": {
        "colab": {
          "base_uri": "https://localhost:8080/",
          "height": 497
        },
        "id": "jPuWwowBX1gg",
        "outputId": "fc2214ec-6533-4cae-ba74-eb9ad7baf442"
      },
      "source": [
        "plt.figure(figsize=(10,8))\n",
        "plt.ylabel('Price in £')\n",
        "plt.xlabel('Number of houses')\n",
        "plt.hist(manchester['price'], bins=20)\n",
        "plt.show()"
      ],
      "id": "jPuWwowBX1gg",
      "execution_count": 23,
      "outputs": [
        {
          "output_type": "display_data",
          "data": {
            "image/png": "[encoded data removed]",
            "text/plain": [
              "<Figure size 720x576 with 1 Axes>"
            ]
          },
          "metadata": {
            "needs_background": "light"
          }
        }
      ]
    },
    {
      "cell_type": "markdown",
      "metadata": {
        "id": "AYyGp5IJEyIP"
      },
      "source": [
        "> This could be roughly modelled using a **Poisson distribution**. Then, the assumption of my model will be that the prices of houses around my coordinates follow this distribution."
      ],
      "id": "AYyGp5IJEyIP"
    },
    {
      "cell_type": "markdown",
      "metadata": {
        "id": "5Klitqo6jWMG"
      },
      "source": [
        "### Third part: neighbourhood features\n",
        "\n",
        "The observation that I can draw from the first and second parts is that houses in the same neighbourhood have similar prices. There are, however, variations in these prices, and I want to see how much of this variation is accounted for by amenities, such as schools, parking spaces, healthcare facilies and so on. Let's extract these using OpenStreetMap."
      ],
      "id": "5Klitqo6jWMG"
    },
    {
      "cell_type": "markdown",
      "metadata": {
        "id": "K2Sku7fIAJ7n"
      },
      "source": [
        "> Since I have chosen a Poisson distribution for my model, if OpenStreetMap features are influencing my model then I am expecting to see a linear relation between the number the number of POIs and the log of the price."
      ],
      "id": "K2Sku7fIAJ7n"
    },
    {
      "cell_type": "code",
      "metadata": {
        "colab": {
          "base_uri": "https://localhost:8080/"
        },
        "id": "ZOP5QXnmG2fe",
        "outputId": "d2e4005b-8d03-45ae-d81c-b4e41f48d25a"
      },
      "source": [
        "# Let's look at Oxford again\n",
        "\n",
        "latitude = 51.76129500\n",
        "longitude = -1.21155800\n",
        "h_price = 400000\n",
        "\n",
        "# I have chosen these tags as relevant\n",
        "tags = {'amenity': True,\n",
        " 'historic': True,\n",
        " 'leisure': True,\n",
        " 'shop': True,\n",
        " 'tourism': True}\n",
        "\n",
        "box = assess.get_box(latitude, longitude, 0.01, 0.01)\n",
        "oxford = access.region_data(conn, '2015-01-01', '2015-06-01', 'town_city', 'Oxford')\n",
        "oxford = assess.assess_houses(oxford)"
      ],
      "id": "ZOP5QXnmG2fe",
      "execution_count": 24,
      "outputs": [
        {
          "output_type": "stream",
          "name": "stdout",
          "text": [
            "Affected rows: 901\n",
            "Assessing dataframe...\n",
            "Assessment is finished.\n"
          ]
        }
      ]
    },
    {
      "cell_type": "code",
      "metadata": {
        "id": "gV5f8MpIjMVJ",
        "colab": {
          "base_uri": "https://localhost:8080/"
        },
        "outputId": "90a02c6d-4f83-4890-ef25-2a2b21ce6808"
      },
      "source": [
        "# take a sample\n",
        "sample = oxford.sample(30)\n",
        "\n",
        "# Retrieve OpenStreetMap data for a sample\n",
        "pois = access.pois_data(sample, tags)\n",
        "pois = assess.assess_pois(pois, tags)"
      ],
      "id": "gV5f8MpIjMVJ",
      "execution_count": 25,
      "outputs": [
        {
          "output_type": "stream",
          "name": "stdout",
          "text": [
            "Loading all points from OpenStreetMap...\n"
          ]
        },
        {
          "output_type": "stream",
          "name": "stderr",
          "text": [
            "/usr/local/lib/python3.7/dist-packages/osmnx/geometries.py:805: ShapelyDeprecationWarning: Iteration over multi-part geometries is deprecated and will be removed in Shapely 2.0. Use the `geoms` property to access the constituent parts of a multi-part geometry.\n",
            "  for merged_outer_linestring in list(merged_outer_linestrings):\n",
            "/usr/local/lib/python3.7/dist-packages/osmnx/geometries.py:805: ShapelyDeprecationWarning: __len__ for multi-part geometries is deprecated and will be removed in Shapely 2.0. Check the length of the `geoms` property instead to get the  number of parts of a multi-part geometry.\n",
            "  for merged_outer_linestring in list(merged_outer_linestrings):\n",
            "/usr/local/lib/python3.7/dist-packages/osmnx/geometries.py:805: ShapelyDeprecationWarning: Iteration over multi-part geometries is deprecated and will be removed in Shapely 2.0. Use the `geoms` property to access the constituent parts of a multi-part geometry.\n",
            "  for merged_outer_linestring in list(merged_outer_linestrings):\n",
            "/usr/local/lib/python3.7/dist-packages/osmnx/geometries.py:805: ShapelyDeprecationWarning: __len__ for multi-part geometries is deprecated and will be removed in Shapely 2.0. Check the length of the `geoms` property instead to get the  number of parts of a multi-part geometry.\n",
            "  for merged_outer_linestring in list(merged_outer_linestrings):\n"
          ]
        },
        {
          "output_type": "stream",
          "name": "stdout",
          "text": [
            "Loaded all points.\n",
            "Assess pois and compute total pois...\n",
            "Stats computed.\n"
          ]
        }
      ]
    },
    {
      "cell_type": "code",
      "metadata": {
        "id": "F6SeaXrvgtsZ"
      },
      "source": [
        "import pandas as pd\n",
        "merged = pd.concat([sample.reset_index(), pois], axis=1)"
      ],
      "id": "F6SeaXrvgtsZ",
      "execution_count": 26,
      "outputs": []
    },
    {
      "cell_type": "code",
      "metadata": {
        "colab": {
          "base_uri": "https://localhost:8080/",
          "height": 621
        },
        "id": "4q8Gok1snNcs",
        "outputId": "f22f730c-9fba-417d-a679-c4b8237895ba"
      },
      "source": [
        "import matplotlib.pyplot as plt\n",
        "from fynesse import assess\n",
        "\n",
        "fig = plt.figure(figsize=(15,10))\n",
        "\n",
        "count = 1\n",
        "for tag in tags.keys():\n",
        "  ax = fig.add_subplot(2, 3, count)\n",
        "  assess.draw_correlation(np.log(merged['price']), merged[tag], ax, 'log price', f'# {tag}')\n",
        "  count += 1"
      ],
      "id": "4q8Gok1snNcs",
      "execution_count": 27,
      "outputs": [
        {
          "output_type": "display_data",
          "data": {
            "image/png": "[encoded data removed]",
            "text/plain": [
              "<Figure size 1080x720 with 5 Axes>"
            ]
          },
          "metadata": {
            "needs_background": "light"
          }
        }
      ]
    },
    {
      "cell_type": "markdown",
      "metadata": {
        "id": "ZwSpzuK0_Wgu"
      },
      "source": [
        "> We could be looking at specific neighbourhood features, such as parking spaces and schools:   "
      ],
      "id": "ZwSpzuK0_Wgu"
    },
    {
      "cell_type": "code",
      "metadata": {
        "colab": {
          "base_uri": "https://localhost:8080/",
          "height": 329
        },
        "cellView": "code",
        "id": "WXWB8I_Y_FdR",
        "outputId": "0928b47b-d26d-416e-f433-c95a2792cb12"
      },
      "source": [
        "tags = {'amenity': 'parking'}\n",
        "pois = access.pois_data(sample, tags)\n",
        "merged = pd.concat([sample.reset_index(), pois], axis=1)\n",
        "fig, ax = plt.subplots()\n",
        "assess.draw_correlation(np.log(merged['price']), merged['amenity'], ax, 'log price', '# of parking spaces')"
      ],
      "id": "WXWB8I_Y_FdR",
      "execution_count": 28,
      "outputs": [
        {
          "output_type": "stream",
          "name": "stdout",
          "text": [
            "Loading all points from OpenStreetMap...\n",
            "Loaded all points.\n"
          ]
        },
        {
          "output_type": "display_data",
          "data": {
            "image/png": "[encoded data removed]",
            "text/plain": [
              "<Figure size 432x288 with 1 Axes>"
            ]
          },
          "metadata": {
            "needs_background": "light"
          }
        }
      ]
    },
    {
      "cell_type": "markdown",
      "metadata": {
        "id": "0mxQu8haBHLn"
      },
      "source": [
        "> Having done this analysis on other tags, such as `school`, `hospital`, `supermarket`, `kindergaden`, it seems that there doesn't exist a particular type of POI that has more influence than others. The absence of one type of amenity is easily offset by the presence of another type of amenity, so I have decided to look at the **total number** of POIs per tag."
      ],
      "id": "0mxQu8haBHLn"
    },
    {
      "cell_type": "code",
      "metadata": {
        "colab": {
          "base_uri": "https://localhost:8080/",
          "height": 380
        },
        "id": "lcYF8uYoCVi-",
        "outputId": "2852917e-4de0-4326-8727-e682cc5979fa"
      },
      "source": [
        "# Simpson’s Paradox\n",
        "\n",
        "fig, ax = plt.subplots()\n",
        "prop_type = ['F', 'S', 'D', 'T', 'O']\n",
        "tags = {'amenity': True}\n",
        "for prop in prop_type:\n",
        "  df = merged[merged['property_type'] == prop]\n",
        "  print(f\"Correlation for {prop}: {assess.get_price_correlation(df, df, tags)}\")\n",
        "  if len(df) > 0:\n",
        "    assess.draw_correlation(np.log(df['price']), df['amenity'], ax, 'log price', '# of amenities')"
      ],
      "id": "lcYF8uYoCVi-",
      "execution_count": 30,
      "outputs": [
        {
          "output_type": "stream",
          "name": "stdout",
          "text": [
            "Correlation for F: {'amenity': -0.3929020925235611}\n",
            "Correlation for S: {'amenity': 0.5957223744324085}\n",
            "Correlation for D: {'amenity': 0.9766039140387318}\n",
            "Correlation for T: {'amenity': -0.676411806679681}\n",
            "Correlation for O: {'amenity': nan}\n"
          ]
        },
        {
          "output_type": "display_data",
          "data": {
            "image/png": "[encoded data removed]",
            "text/plain": [
              "<Figure size 432x288 with 1 Axes>"
            ]
          },
          "metadata": {
            "needs_background": "light"
          }
        }
      ]
    },
    {
      "cell_type": "markdown",
      "metadata": {
        "id": "hx-9XVcZDmLv"
      },
      "source": [
        "It is interesting to notice that the small correlation we have found earlier for the number of amenities, for example, is reversed for some groups when we split the sample into property types."
      ],
      "id": "hx-9XVcZDmLv"
    },
    {
      "cell_type": "markdown",
      "metadata": {
        "id": "09a0e365"
      },
      "source": [
        "\n",
        "## Question 3. Addressing a Property Price Prediction Question\n",
        "\n",
        "For your final tick, we will be asking you to make house price predictions for a given location, date and property type in the UK. You will provide a function that takes input a latitude and longitude as well as the `property_type` (either type\" of property (either `F` - flat, `S` - semidetached, `D` - detached, `T` - terraced or `O` other). Create this function in the `address.py` file, for example in the form,\n",
        "\n",
        "```\n",
        "def predict_price(latitude, longitude, date, property_type):\n",
        "    \"\"\"Price prediction for UK housing.\"\"\"\n",
        "    pass\n",
        "```\n",
        "\n",
        "We suggest that you use the following approach when building your prediction. \n",
        "\n",
        "1. Select a bounding box around the housing location in latitude and longitude.\n",
        "2. Select a data range around the prediction date. \n",
        "3. Use the data ecosystem you have build above to build a training set from the relevant time period and location in the UK. Include appropriate features from OSM to improve the prediction.\n",
        "4. Train a linear model on the data set you have created.\n",
        "5. Validate the quality of the model.\n",
        "6. Provide a prediction of the price from the model, warning appropriately if your validation indicates the quality of the model is poor.\n",
        "\n",
        "The knowledge you need to do a first pass through this question will have been taught by end of lab session four (25th November 2021). You will likely want to review your answer as part of *refactoring* your code shortly before hand in.\n",
        "\n"
      ],
      "id": "09a0e365"
    },
    {
      "cell_type": "markdown",
      "metadata": {
        "id": "zb1mq3-0Q18l"
      },
      "source": [
        "> To recap all the model decisions I have taken so far:   \n",
        "1. Split data by `property_type`\n",
        "2. Use a bounding box for latitude and longitude of **2 km**\n",
        "3. Model prices in the bouding box using a **Poisson distribution**.\n",
        "4. Add the total number of POIs for tags: `amenities`, `leisure`, `tourism`, `historic`, `shop`."
      ],
      "id": "zb1mq3-0Q18l"
    },
    {
      "cell_type": "code",
      "metadata": {
        "id": "Si3K0A2zM7pa",
        "colab": {
          "base_uri": "https://localhost:8080/",
          "height": 792
        },
        "outputId": "a955106d-adeb-4b72-a241-43e574d209b6"
      },
      "source": [
        "from fynesse import address \n",
        "\n",
        "predict, model = address.predict_price(conn, 51.381, -0.254, '2015-12-31', 'D')"
      ],
      "id": "Si3K0A2zM7pa",
      "execution_count": 31,
      "outputs": [
        {
          "output_type": "stream",
          "name": "stdout",
          "text": [
            "Getting house data...\n",
            "Affected rows: 0\n",
            "Affected rows: 0\n",
            "Loaded rows from temp_join.csv to prices_coordinates_data\n",
            "Affected rows: 33\n",
            "Assessing dataframe...\n",
            "Assessment is finished.\n",
            "WARNING: FEW DATA POINTS. Trying to create model from 33 data points...\n",
            "\n",
            "Getting OpenStreetMap features...\n",
            "Loading all points from OpenStreetMap...\n",
            "Loaded all points.\n",
            "Assess pois and compute total pois...\n",
            "Stats computed.\n",
            "\n",
            "Building a model for the region around the house...\n",
            "Spliting data into training and validation with test size: 0.2...\n",
            "Picking features: ['latitude', 'longitude', 'amenity', 'historic', 'leisure', 'shop', 'tourism']...\n",
            "\n",
            "Validate the model...\n"
          ]
        },
        {
          "output_type": "stream",
          "name": "stderr",
          "text": [
            "/usr/local/lib/python3.7/dist-packages/statsmodels/genmod/generalized_linear_model.py:1133: DeprecationWarning: `np.float` is a deprecated alias for the builtin `float`. To silence this warning, use `float` by itself. Doing this will not modify any behavior and is safe. If you specifically wanted the numpy scalar type, use `np.float64` here.\n",
            "Deprecated in NumPy 1.20; for more details and guidance: https://numpy.org/devdocs/release/1.20.0-notes.html#deprecations\n",
            "  start_params = np.zeros(self.exog.shape[1], np.float)\n"
          ]
        },
        {
          "output_type": "display_data",
          "data": {
            "image/png": "[encoded data removed]",
            "text/plain": [
              "<Figure size 432x288 with 1 Axes>"
            ]
          },
          "metadata": {
            "needs_background": "light"
          }
        },
        {
          "output_type": "stream",
          "name": "stdout",
          "text": [
            "Predicting price for house...\n",
            "Loading all points from OpenStreetMap...\n",
            "Loaded all points.\n",
            "Assess pois and compute total pois...\n",
            "Stats computed.\n",
            "Picking features: ['latitude', 'longitude', 'amenity', 'historic', 'leisure', 'shop', 'tourism']...\n"
          ]
        }
      ]
    },
    {
      "cell_type": "code",
      "metadata": {
        "colab": {
          "base_uri": "https://localhost:8080/"
        },
        "id": "tLwn25DlP3BI",
        "outputId": "2968c140-4091-41c1-87f1-6f10f771ae25"
      },
      "source": [
        "print(f\"Predicted value for house: {predict['mean'][0]}\")"
      ],
      "id": "tLwn25DlP3BI",
      "execution_count": 33,
      "outputs": [
        {
          "output_type": "stream",
          "name": "stdout",
          "text": [
            "Predicted value for house: 792210.954862372\n"
          ]
        }
      ]
    }
  ]
}